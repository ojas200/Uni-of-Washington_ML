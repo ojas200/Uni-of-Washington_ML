{
  "nbformat": 4,
  "nbformat_minor": 0,
  "metadata": {
    "colab": {
      "provenance": []
    },
    "kernelspec": {
      "name": "python3",
      "display_name": "Python 3"
    },
    "language_info": {
      "name": "python"
    }
  },
  "cells": [
    {
      "cell_type": "code",
      "execution_count": null,
      "metadata": {
        "id": "CMGxUmXeIDP-",
        "colab": {
          "base_uri": "https://localhost:8080/",
          "height": 1000
        },
        "outputId": "07eafb09-bbed-4d11-f7e2-7a1adeea418f"
      },
      "outputs": [
        {
          "output_type": "stream",
          "name": "stdout",
          "text": [
            "Looking in indexes: https://pypi.org/simple, https://us-python.pkg.dev/colab-wheels/public/simple/\n",
            "Collecting turicreate\n",
            "  Downloading turicreate-6.4.1-cp37-cp37m-manylinux1_x86_64.whl (92.0 MB)\n",
            "\u001b[K     |████████████████████████████████| 92.0 MB 512 kB/s \n",
            "\u001b[?25hCollecting coremltools==3.3\n",
            "  Downloading coremltools-3.3-cp37-none-manylinux1_x86_64.whl (3.5 MB)\n",
            "\u001b[K     |████████████████████████████████| 3.5 MB 52.4 MB/s \n",
            "\u001b[?25hRequirement already satisfied: pandas>=0.23.2 in /usr/local/lib/python3.7/dist-packages (from turicreate) (1.3.5)\n",
            "Collecting prettytable==0.7.2\n",
            "  Downloading prettytable-0.7.2.zip (28 kB)\n",
            "Collecting tensorflow<2.1.0,>=2.0.0\n",
            "  Downloading tensorflow-2.0.4-cp37-cp37m-manylinux2010_x86_64.whl (86.4 MB)\n",
            "\u001b[K     |████████████████████████████████| 86.4 MB 84 kB/s \n",
            "\u001b[?25hRequirement already satisfied: decorator>=4.0.9 in /usr/local/lib/python3.7/dist-packages (from turicreate) (4.4.2)\n",
            "Requirement already satisfied: requests>=2.9.1 in /usr/local/lib/python3.7/dist-packages (from turicreate) (2.23.0)\n",
            "Requirement already satisfied: scipy>=1.1.0 in /usr/local/lib/python3.7/dist-packages (from turicreate) (1.7.3)\n",
            "Requirement already satisfied: six>=1.10.0 in /usr/local/lib/python3.7/dist-packages (from turicreate) (1.15.0)\n",
            "Requirement already satisfied: numpy in /usr/local/lib/python3.7/dist-packages (from turicreate) (1.21.6)\n",
            "Collecting resampy==0.2.1\n",
            "  Downloading resampy-0.2.1.tar.gz (322 kB)\n",
            "\u001b[K     |████████████████████████████████| 322 kB 89.3 MB/s \n",
            "\u001b[?25hCollecting numba<0.51.0\n",
            "  Downloading numba-0.50.1-cp37-cp37m-manylinux2014_x86_64.whl (3.6 MB)\n",
            "\u001b[K     |████████████████████████████████| 3.6 MB 64.8 MB/s \n",
            "\u001b[?25hRequirement already satisfied: pillow>=5.2.0 in /usr/local/lib/python3.7/dist-packages (from turicreate) (7.1.2)\n",
            "Requirement already satisfied: protobuf>=3.1.0 in /usr/local/lib/python3.7/dist-packages (from coremltools==3.3->turicreate) (3.17.3)\n",
            "Requirement already satisfied: setuptools in /usr/local/lib/python3.7/dist-packages (from numba<0.51.0->turicreate) (57.4.0)\n",
            "Collecting llvmlite<0.34,>=0.33.0.dev0\n",
            "  Downloading llvmlite-0.33.0-cp37-cp37m-manylinux1_x86_64.whl (18.3 MB)\n",
            "\u001b[K     |████████████████████████████████| 18.3 MB 64.7 MB/s \n",
            "\u001b[?25hRequirement already satisfied: python-dateutil>=2.7.3 in /usr/local/lib/python3.7/dist-packages (from pandas>=0.23.2->turicreate) (2.8.2)\n",
            "Requirement already satisfied: pytz>=2017.3 in /usr/local/lib/python3.7/dist-packages (from pandas>=0.23.2->turicreate) (2022.2.1)\n",
            "Requirement already satisfied: idna<3,>=2.5 in /usr/local/lib/python3.7/dist-packages (from requests>=2.9.1->turicreate) (2.10)\n",
            "Requirement already satisfied: certifi>=2017.4.17 in /usr/local/lib/python3.7/dist-packages (from requests>=2.9.1->turicreate) (2022.6.15)\n",
            "Requirement already satisfied: chardet<4,>=3.0.2 in /usr/local/lib/python3.7/dist-packages (from requests>=2.9.1->turicreate) (3.0.4)\n",
            "Requirement already satisfied: urllib3!=1.25.0,!=1.25.1,<1.26,>=1.21.1 in /usr/local/lib/python3.7/dist-packages (from requests>=2.9.1->turicreate) (1.24.3)\n",
            "Requirement already satisfied: opt-einsum>=2.3.2 in /usr/local/lib/python3.7/dist-packages (from tensorflow<2.1.0,>=2.0.0->turicreate) (3.3.0)\n",
            "Collecting tensorboard<2.1.0,>=2.0.0\n",
            "  Downloading tensorboard-2.0.2-py3-none-any.whl (3.8 MB)\n",
            "\u001b[K     |████████████████████████████████| 3.8 MB 59.6 MB/s \n",
            "\u001b[?25hRequirement already satisfied: keras-preprocessing>=1.0.5 in /usr/local/lib/python3.7/dist-packages (from tensorflow<2.1.0,>=2.0.0->turicreate) (1.1.2)\n",
            "Requirement already satisfied: astor>=0.6.0 in /usr/local/lib/python3.7/dist-packages (from tensorflow<2.1.0,>=2.0.0->turicreate) (0.8.1)\n",
            "Collecting tensorflow-estimator<2.1.0,>=2.0.0\n",
            "  Downloading tensorflow_estimator-2.0.1-py2.py3-none-any.whl (449 kB)\n",
            "\u001b[K     |████████████████████████████████| 449 kB 78.7 MB/s \n",
            "\u001b[?25hCollecting keras-applications>=1.0.8\n",
            "  Downloading Keras_Applications-1.0.8-py3-none-any.whl (50 kB)\n",
            "\u001b[K     |████████████████████████████████| 50 kB 7.4 MB/s \n",
            "\u001b[?25hCollecting numpy\n",
            "  Downloading numpy-1.18.5-cp37-cp37m-manylinux1_x86_64.whl (20.1 MB)\n",
            "\u001b[K     |████████████████████████████████| 20.1 MB 1.2 MB/s \n",
            "\u001b[?25hCollecting h5py<=2.10.0\n",
            "  Downloading h5py-2.10.0-cp37-cp37m-manylinux1_x86_64.whl (2.9 MB)\n",
            "\u001b[K     |████████████████████████████████| 2.9 MB 56.3 MB/s \n",
            "\u001b[?25hRequirement already satisfied: grpcio>=1.8.6 in /usr/local/lib/python3.7/dist-packages (from tensorflow<2.1.0,>=2.0.0->turicreate) (1.47.0)\n",
            "Requirement already satisfied: google-pasta>=0.1.6 in /usr/local/lib/python3.7/dist-packages (from tensorflow<2.1.0,>=2.0.0->turicreate) (0.2.0)\n",
            "Requirement already satisfied: absl-py>=0.7.0 in /usr/local/lib/python3.7/dist-packages (from tensorflow<2.1.0,>=2.0.0->turicreate) (1.2.0)\n",
            "Requirement already satisfied: termcolor>=1.1.0 in /usr/local/lib/python3.7/dist-packages (from tensorflow<2.1.0,>=2.0.0->turicreate) (1.1.0)\n",
            "Requirement already satisfied: wrapt>=1.11.1 in /usr/local/lib/python3.7/dist-packages (from tensorflow<2.1.0,>=2.0.0->turicreate) (1.14.1)\n",
            "Collecting gast==0.2.2\n",
            "  Downloading gast-0.2.2.tar.gz (10 kB)\n",
            "Requirement already satisfied: wheel>=0.26 in /usr/local/lib/python3.7/dist-packages (from tensorflow<2.1.0,>=2.0.0->turicreate) (0.37.1)\n",
            "Requirement already satisfied: werkzeug>=0.11.15 in /usr/local/lib/python3.7/dist-packages (from tensorboard<2.1.0,>=2.0.0->tensorflow<2.1.0,>=2.0.0->turicreate) (1.0.1)\n",
            "Requirement already satisfied: markdown>=2.6.8 in /usr/local/lib/python3.7/dist-packages (from tensorboard<2.1.0,>=2.0.0->tensorflow<2.1.0,>=2.0.0->turicreate) (3.4.1)\n",
            "Requirement already satisfied: google-auth<2,>=1.6.3 in /usr/local/lib/python3.7/dist-packages (from tensorboard<2.1.0,>=2.0.0->tensorflow<2.1.0,>=2.0.0->turicreate) (1.35.0)\n",
            "Requirement already satisfied: google-auth-oauthlib<0.5,>=0.4.1 in /usr/local/lib/python3.7/dist-packages (from tensorboard<2.1.0,>=2.0.0->tensorflow<2.1.0,>=2.0.0->turicreate) (0.4.6)\n",
            "Requirement already satisfied: pyasn1-modules>=0.2.1 in /usr/local/lib/python3.7/dist-packages (from google-auth<2,>=1.6.3->tensorboard<2.1.0,>=2.0.0->tensorflow<2.1.0,>=2.0.0->turicreate) (0.2.8)\n",
            "Requirement already satisfied: rsa<5,>=3.1.4 in /usr/local/lib/python3.7/dist-packages (from google-auth<2,>=1.6.3->tensorboard<2.1.0,>=2.0.0->tensorflow<2.1.0,>=2.0.0->turicreate) (4.9)\n",
            "Requirement already satisfied: cachetools<5.0,>=2.0.0 in /usr/local/lib/python3.7/dist-packages (from google-auth<2,>=1.6.3->tensorboard<2.1.0,>=2.0.0->tensorflow<2.1.0,>=2.0.0->turicreate) (4.2.4)\n",
            "Requirement already satisfied: requests-oauthlib>=0.7.0 in /usr/local/lib/python3.7/dist-packages (from google-auth-oauthlib<0.5,>=0.4.1->tensorboard<2.1.0,>=2.0.0->tensorflow<2.1.0,>=2.0.0->turicreate) (1.3.1)\n",
            "Requirement already satisfied: importlib-metadata>=4.4 in /usr/local/lib/python3.7/dist-packages (from markdown>=2.6.8->tensorboard<2.1.0,>=2.0.0->tensorflow<2.1.0,>=2.0.0->turicreate) (4.12.0)\n",
            "Requirement already satisfied: zipp>=0.5 in /usr/local/lib/python3.7/dist-packages (from importlib-metadata>=4.4->markdown>=2.6.8->tensorboard<2.1.0,>=2.0.0->tensorflow<2.1.0,>=2.0.0->turicreate) (3.8.1)\n",
            "Requirement already satisfied: typing-extensions>=3.6.4 in /usr/local/lib/python3.7/dist-packages (from importlib-metadata>=4.4->markdown>=2.6.8->tensorboard<2.1.0,>=2.0.0->tensorflow<2.1.0,>=2.0.0->turicreate) (4.1.1)\n",
            "Requirement already satisfied: pyasn1<0.5.0,>=0.4.6 in /usr/local/lib/python3.7/dist-packages (from pyasn1-modules>=0.2.1->google-auth<2,>=1.6.3->tensorboard<2.1.0,>=2.0.0->tensorflow<2.1.0,>=2.0.0->turicreate) (0.4.8)\n",
            "Requirement already satisfied: oauthlib>=3.0.0 in /usr/local/lib/python3.7/dist-packages (from requests-oauthlib>=0.7.0->google-auth-oauthlib<0.5,>=0.4.1->tensorboard<2.1.0,>=2.0.0->tensorflow<2.1.0,>=2.0.0->turicreate) (3.2.0)\n",
            "Building wheels for collected packages: prettytable, resampy, gast\n",
            "  Building wheel for prettytable (setup.py) ... \u001b[?25l\u001b[?25hdone\n",
            "  Created wheel for prettytable: filename=prettytable-0.7.2-py3-none-any.whl size=13714 sha256=6ac3181be19af3e3a648c796561e8f3ab6dc0e7dd89ee0c761c71792d8780048\n",
            "  Stored in directory: /root/.cache/pip/wheels/b2/7f/f6/f180315b584f00445045ff1699b550fa895d09471337ce21c6\n",
            "  Building wheel for resampy (setup.py) ... \u001b[?25l\u001b[?25hdone\n",
            "  Created wheel for resampy: filename=resampy-0.2.1-py3-none-any.whl size=320859 sha256=8eee0de12794f87732cb6836f88782fa40331efadb1cc4e595859da7ba0961a5\n",
            "  Stored in directory: /root/.cache/pip/wheels/71/74/53/d5ceb7c5ee7a168c7d106041863e71ac3273f4a4677743a284\n",
            "  Building wheel for gast (setup.py) ... \u001b[?25l\u001b[?25hdone\n",
            "  Created wheel for gast: filename=gast-0.2.2-py3-none-any.whl size=7554 sha256=a2239ea4235ad2b8eeda325a0aa894fb5d48a8425dc97331a629e358d2a6788b\n",
            "  Stored in directory: /root/.cache/pip/wheels/21/7f/02/420f32a803f7d0967b48dd823da3f558c5166991bfd204eef3\n",
            "Successfully built prettytable resampy gast\n",
            "Installing collected packages: numpy, llvmlite, h5py, tensorflow-estimator, tensorboard, numba, keras-applications, gast, tensorflow, resampy, prettytable, coremltools, turicreate\n",
            "  Attempting uninstall: numpy\n",
            "    Found existing installation: numpy 1.21.6\n",
            "    Uninstalling numpy-1.21.6:\n",
            "      Successfully uninstalled numpy-1.21.6\n",
            "  Attempting uninstall: llvmlite\n",
            "    Found existing installation: llvmlite 0.39.0\n",
            "    Uninstalling llvmlite-0.39.0:\n",
            "      Successfully uninstalled llvmlite-0.39.0\n",
            "  Attempting uninstall: h5py\n",
            "    Found existing installation: h5py 3.1.0\n",
            "    Uninstalling h5py-3.1.0:\n",
            "      Successfully uninstalled h5py-3.1.0\n",
            "  Attempting uninstall: tensorflow-estimator\n",
            "    Found existing installation: tensorflow-estimator 2.8.0\n",
            "    Uninstalling tensorflow-estimator-2.8.0:\n",
            "      Successfully uninstalled tensorflow-estimator-2.8.0\n",
            "  Attempting uninstall: tensorboard\n",
            "    Found existing installation: tensorboard 2.8.0\n",
            "    Uninstalling tensorboard-2.8.0:\n",
            "      Successfully uninstalled tensorboard-2.8.0\n",
            "  Attempting uninstall: numba\n",
            "    Found existing installation: numba 0.56.0\n",
            "    Uninstalling numba-0.56.0:\n",
            "      Successfully uninstalled numba-0.56.0\n",
            "  Attempting uninstall: gast\n",
            "    Found existing installation: gast 0.5.3\n",
            "    Uninstalling gast-0.5.3:\n",
            "      Successfully uninstalled gast-0.5.3\n",
            "  Attempting uninstall: tensorflow\n",
            "    Found existing installation: tensorflow 2.8.2+zzzcolab20220719082949\n",
            "    Uninstalling tensorflow-2.8.2+zzzcolab20220719082949:\n",
            "      Successfully uninstalled tensorflow-2.8.2+zzzcolab20220719082949\n",
            "  Attempting uninstall: resampy\n",
            "    Found existing installation: resampy 0.4.0\n",
            "    Uninstalling resampy-0.4.0:\n",
            "      Successfully uninstalled resampy-0.4.0\n",
            "  Attempting uninstall: prettytable\n",
            "    Found existing installation: prettytable 3.4.0\n",
            "    Uninstalling prettytable-3.4.0:\n",
            "      Successfully uninstalled prettytable-3.4.0\n",
            "\u001b[31mERROR: pip's dependency resolver does not currently take into account all the packages that are installed. This behaviour is the source of the following dependency conflicts.\n",
            "xarray-einstats 0.2.2 requires numpy>=1.21, but you have numpy 1.18.5 which is incompatible.\n",
            "tensorflow-probability 0.16.0 requires gast>=0.3.2, but you have gast 0.2.2 which is incompatible.\n",
            "tables 3.7.0 requires numpy>=1.19.0, but you have numpy 1.18.5 which is incompatible.\n",
            "plotnine 0.8.0 requires numpy>=1.19.0, but you have numpy 1.18.5 which is incompatible.\n",
            "librosa 0.8.1 requires resampy>=0.2.2, but you have resampy 0.2.1 which is incompatible.\n",
            "jaxlib 0.3.14+cuda11.cudnn805 requires numpy>=1.19, but you have numpy 1.18.5 which is incompatible.\n",
            "jax 0.3.14 requires numpy>=1.19, but you have numpy 1.18.5 which is incompatible.\n",
            "cmdstanpy 1.0.7 requires numpy>=1.21, but you have numpy 1.18.5 which is incompatible.\u001b[0m\n",
            "Successfully installed coremltools-3.3 gast-0.2.2 h5py-2.10.0 keras-applications-1.0.8 llvmlite-0.33.0 numba-0.50.1 numpy-1.18.5 prettytable-0.7.2 resampy-0.2.1 tensorboard-2.0.2 tensorflow-2.0.4 tensorflow-estimator-2.0.1 turicreate-6.4.1\n"
          ]
        },
        {
          "output_type": "display_data",
          "data": {
            "application/vnd.colab-display-data+json": {
              "pip_warning": {
                "packages": [
                  "numpy"
                ]
              }
            }
          },
          "metadata": {}
        }
      ],
      "source": [
        "!pip install turicreate"
      ]
    },
    {
      "cell_type": "code",
      "source": [
        "import turicreate as tc"
      ],
      "metadata": {
        "id": "Oo_6FASe33jp"
      },
      "execution_count": null,
      "outputs": []
    },
    {
      "cell_type": "code",
      "source": [
        "songs = tc.SFrame('/content/drive/MyDrive/ML/Machine Learning- Coursera/song_data.sframe')"
      ],
      "metadata": {
        "id": "i-6EWC5i353M"
      },
      "execution_count": null,
      "outputs": []
    },
    {
      "cell_type": "code",
      "source": [
        "songs.head()"
      ],
      "metadata": {
        "colab": {
          "base_uri": "https://localhost:8080/",
          "height": 742
        },
        "id": "LGITxGZg5TlT",
        "outputId": "b22e48d4-5780-4336-9bcb-d8229a9cd552"
      },
      "execution_count": null,
      "outputs": [
        {
          "output_type": "execute_result",
          "data": {
            "text/plain": [
              "Columns:\n",
              "\tuser_id\tstr\n",
              "\tsong_id\tstr\n",
              "\tlisten_count\tint\n",
              "\ttitle\tstr\n",
              "\tartist\tstr\n",
              "\tsong\tstr\n",
              "\n",
              "Rows: 10\n",
              "\n",
              "Data:\n",
              "+-------------------------------+--------------------+--------------+\n",
              "|            user_id            |      song_id       | listen_count |\n",
              "+-------------------------------+--------------------+--------------+\n",
              "| b80344d063b5ccb3212f76538f... | SOAKIMP12A8C130995 |      1       |\n",
              "| b80344d063b5ccb3212f76538f... | SOBBMDR12A8C13253B |      2       |\n",
              "| b80344d063b5ccb3212f76538f... | SOBXHDL12A81C204C0 |      1       |\n",
              "| b80344d063b5ccb3212f76538f... | SOBYHAJ12A6701BF1D |      1       |\n",
              "| b80344d063b5ccb3212f76538f... | SODACBL12A8C13C273 |      1       |\n",
              "| b80344d063b5ccb3212f76538f... | SODDNQT12A6D4F5F7E |      5       |\n",
              "| b80344d063b5ccb3212f76538f... | SODXRTY12AB0180F3B |      1       |\n",
              "| b80344d063b5ccb3212f76538f... | SOFGUAY12AB017B0A8 |      1       |\n",
              "| b80344d063b5ccb3212f76538f... | SOFRQTD12A81C233C0 |      1       |\n",
              "| b80344d063b5ccb3212f76538f... | SOHQWYZ12A6D4FA701 |      1       |\n",
              "+-------------------------------+--------------------+--------------+\n",
              "+-------------------------------+-------------------------------+\n",
              "|             title             |             artist            |\n",
              "+-------------------------------+-------------------------------+\n",
              "|            The Cove           |          Jack Johnson         |\n",
              "|        Entre Dos Aguas        |         Paco De Lucia         |\n",
              "|            Stronger           |           Kanye West          |\n",
              "|         Constellations        |          Jack Johnson         |\n",
              "|          Learn To Fly         |          Foo Fighters         |\n",
              "|  Apuesta Por El Rock 'N' Roll |      Héroes del Silencio      |\n",
              "|         Paper Gangsta         |           Lady GaGa           |\n",
              "|         Stacked Actors        |          Foo Fighters         |\n",
              "|         Sehr kosmisch         |            Harmonia           |\n",
              "| Heaven's gonna burn your eyes | Thievery Corporation feat.... |\n",
              "+-------------------------------+-------------------------------+\n",
              "+-------------------------------+\n",
              "|              song             |\n",
              "+-------------------------------+\n",
              "|    The Cove - Jack Johnson    |\n",
              "| Entre Dos Aguas - Paco De ... |\n",
              "|     Stronger - Kanye West     |\n",
              "| Constellations - Jack Johnson |\n",
              "|  Learn To Fly - Foo Fighters  |\n",
              "| Apuesta Por El Rock 'N' Ro... |\n",
              "|   Paper Gangsta - Lady GaGa   |\n",
              "| Stacked Actors - Foo Fighters |\n",
              "|    Sehr kosmisch - Harmonia   |\n",
              "| Heaven's gonna burn your e... |\n",
              "+-------------------------------+\n",
              "[10 rows x 6 columns]"
            ],
            "text/html": [
              "<div style=\"max-height:1000px;max-width:1500px;overflow:auto;\"><table frame=\"box\" rules=\"cols\">\n",
              "    <tr>\n",
              "        <th style=\"padding-left: 1em; padding-right: 1em; text-align: center\">user_id</th>\n",
              "        <th style=\"padding-left: 1em; padding-right: 1em; text-align: center\">song_id</th>\n",
              "        <th style=\"padding-left: 1em; padding-right: 1em; text-align: center\">listen_count</th>\n",
              "        <th style=\"padding-left: 1em; padding-right: 1em; text-align: center\">title</th>\n",
              "        <th style=\"padding-left: 1em; padding-right: 1em; text-align: center\">artist</th>\n",
              "    </tr>\n",
              "    <tr>\n",
              "        <td style=\"padding-left: 1em; padding-right: 1em; text-align: center; vertical-align: top\">b80344d063b5ccb3212f76538<br>f3d9e43d87dca9e ...</td>\n",
              "        <td style=\"padding-left: 1em; padding-right: 1em; text-align: center; vertical-align: top\">SOAKIMP12A8C130995</td>\n",
              "        <td style=\"padding-left: 1em; padding-right: 1em; text-align: center; vertical-align: top\">1</td>\n",
              "        <td style=\"padding-left: 1em; padding-right: 1em; text-align: center; vertical-align: top\">The Cove</td>\n",
              "        <td style=\"padding-left: 1em; padding-right: 1em; text-align: center; vertical-align: top\">Jack Johnson</td>\n",
              "    </tr>\n",
              "    <tr>\n",
              "        <td style=\"padding-left: 1em; padding-right: 1em; text-align: center; vertical-align: top\">b80344d063b5ccb3212f76538<br>f3d9e43d87dca9e ...</td>\n",
              "        <td style=\"padding-left: 1em; padding-right: 1em; text-align: center; vertical-align: top\">SOBBMDR12A8C13253B</td>\n",
              "        <td style=\"padding-left: 1em; padding-right: 1em; text-align: center; vertical-align: top\">2</td>\n",
              "        <td style=\"padding-left: 1em; padding-right: 1em; text-align: center; vertical-align: top\">Entre Dos Aguas</td>\n",
              "        <td style=\"padding-left: 1em; padding-right: 1em; text-align: center; vertical-align: top\">Paco De Lucia</td>\n",
              "    </tr>\n",
              "    <tr>\n",
              "        <td style=\"padding-left: 1em; padding-right: 1em; text-align: center; vertical-align: top\">b80344d063b5ccb3212f76538<br>f3d9e43d87dca9e ...</td>\n",
              "        <td style=\"padding-left: 1em; padding-right: 1em; text-align: center; vertical-align: top\">SOBXHDL12A81C204C0</td>\n",
              "        <td style=\"padding-left: 1em; padding-right: 1em; text-align: center; vertical-align: top\">1</td>\n",
              "        <td style=\"padding-left: 1em; padding-right: 1em; text-align: center; vertical-align: top\">Stronger</td>\n",
              "        <td style=\"padding-left: 1em; padding-right: 1em; text-align: center; vertical-align: top\">Kanye West</td>\n",
              "    </tr>\n",
              "    <tr>\n",
              "        <td style=\"padding-left: 1em; padding-right: 1em; text-align: center; vertical-align: top\">b80344d063b5ccb3212f76538<br>f3d9e43d87dca9e ...</td>\n",
              "        <td style=\"padding-left: 1em; padding-right: 1em; text-align: center; vertical-align: top\">SOBYHAJ12A6701BF1D</td>\n",
              "        <td style=\"padding-left: 1em; padding-right: 1em; text-align: center; vertical-align: top\">1</td>\n",
              "        <td style=\"padding-left: 1em; padding-right: 1em; text-align: center; vertical-align: top\">Constellations</td>\n",
              "        <td style=\"padding-left: 1em; padding-right: 1em; text-align: center; vertical-align: top\">Jack Johnson</td>\n",
              "    </tr>\n",
              "    <tr>\n",
              "        <td style=\"padding-left: 1em; padding-right: 1em; text-align: center; vertical-align: top\">b80344d063b5ccb3212f76538<br>f3d9e43d87dca9e ...</td>\n",
              "        <td style=\"padding-left: 1em; padding-right: 1em; text-align: center; vertical-align: top\">SODACBL12A8C13C273</td>\n",
              "        <td style=\"padding-left: 1em; padding-right: 1em; text-align: center; vertical-align: top\">1</td>\n",
              "        <td style=\"padding-left: 1em; padding-right: 1em; text-align: center; vertical-align: top\">Learn To Fly</td>\n",
              "        <td style=\"padding-left: 1em; padding-right: 1em; text-align: center; vertical-align: top\">Foo Fighters</td>\n",
              "    </tr>\n",
              "    <tr>\n",
              "        <td style=\"padding-left: 1em; padding-right: 1em; text-align: center; vertical-align: top\">b80344d063b5ccb3212f76538<br>f3d9e43d87dca9e ...</td>\n",
              "        <td style=\"padding-left: 1em; padding-right: 1em; text-align: center; vertical-align: top\">SODDNQT12A6D4F5F7E</td>\n",
              "        <td style=\"padding-left: 1em; padding-right: 1em; text-align: center; vertical-align: top\">5</td>\n",
              "        <td style=\"padding-left: 1em; padding-right: 1em; text-align: center; vertical-align: top\">Apuesta Por El Rock &#x27;N&#x27;<br>Roll ...</td>\n",
              "        <td style=\"padding-left: 1em; padding-right: 1em; text-align: center; vertical-align: top\">Héroes del Silencio</td>\n",
              "    </tr>\n",
              "    <tr>\n",
              "        <td style=\"padding-left: 1em; padding-right: 1em; text-align: center; vertical-align: top\">b80344d063b5ccb3212f76538<br>f3d9e43d87dca9e ...</td>\n",
              "        <td style=\"padding-left: 1em; padding-right: 1em; text-align: center; vertical-align: top\">SODXRTY12AB0180F3B</td>\n",
              "        <td style=\"padding-left: 1em; padding-right: 1em; text-align: center; vertical-align: top\">1</td>\n",
              "        <td style=\"padding-left: 1em; padding-right: 1em; text-align: center; vertical-align: top\">Paper Gangsta</td>\n",
              "        <td style=\"padding-left: 1em; padding-right: 1em; text-align: center; vertical-align: top\">Lady GaGa</td>\n",
              "    </tr>\n",
              "    <tr>\n",
              "        <td style=\"padding-left: 1em; padding-right: 1em; text-align: center; vertical-align: top\">b80344d063b5ccb3212f76538<br>f3d9e43d87dca9e ...</td>\n",
              "        <td style=\"padding-left: 1em; padding-right: 1em; text-align: center; vertical-align: top\">SOFGUAY12AB017B0A8</td>\n",
              "        <td style=\"padding-left: 1em; padding-right: 1em; text-align: center; vertical-align: top\">1</td>\n",
              "        <td style=\"padding-left: 1em; padding-right: 1em; text-align: center; vertical-align: top\">Stacked Actors</td>\n",
              "        <td style=\"padding-left: 1em; padding-right: 1em; text-align: center; vertical-align: top\">Foo Fighters</td>\n",
              "    </tr>\n",
              "    <tr>\n",
              "        <td style=\"padding-left: 1em; padding-right: 1em; text-align: center; vertical-align: top\">b80344d063b5ccb3212f76538<br>f3d9e43d87dca9e ...</td>\n",
              "        <td style=\"padding-left: 1em; padding-right: 1em; text-align: center; vertical-align: top\">SOFRQTD12A81C233C0</td>\n",
              "        <td style=\"padding-left: 1em; padding-right: 1em; text-align: center; vertical-align: top\">1</td>\n",
              "        <td style=\"padding-left: 1em; padding-right: 1em; text-align: center; vertical-align: top\">Sehr kosmisch</td>\n",
              "        <td style=\"padding-left: 1em; padding-right: 1em; text-align: center; vertical-align: top\">Harmonia</td>\n",
              "    </tr>\n",
              "    <tr>\n",
              "        <td style=\"padding-left: 1em; padding-right: 1em; text-align: center; vertical-align: top\">b80344d063b5ccb3212f76538<br>f3d9e43d87dca9e ...</td>\n",
              "        <td style=\"padding-left: 1em; padding-right: 1em; text-align: center; vertical-align: top\">SOHQWYZ12A6D4FA701</td>\n",
              "        <td style=\"padding-left: 1em; padding-right: 1em; text-align: center; vertical-align: top\">1</td>\n",
              "        <td style=\"padding-left: 1em; padding-right: 1em; text-align: center; vertical-align: top\">Heaven&#x27;s gonna burn your<br>eyes ...</td>\n",
              "        <td style=\"padding-left: 1em; padding-right: 1em; text-align: center; vertical-align: top\">Thievery Corporation<br>feat. Emiliana Torrini ...</td>\n",
              "    </tr>\n",
              "</table>\n",
              "<table frame=\"box\" rules=\"cols\">\n",
              "    <tr>\n",
              "        <th style=\"padding-left: 1em; padding-right: 1em; text-align: center\">song</th>\n",
              "    </tr>\n",
              "    <tr>\n",
              "        <td style=\"padding-left: 1em; padding-right: 1em; text-align: center; vertical-align: top\">The Cove - Jack Johnson</td>\n",
              "    </tr>\n",
              "    <tr>\n",
              "        <td style=\"padding-left: 1em; padding-right: 1em; text-align: center; vertical-align: top\">Entre Dos Aguas - Paco De<br>Lucia ...</td>\n",
              "    </tr>\n",
              "    <tr>\n",
              "        <td style=\"padding-left: 1em; padding-right: 1em; text-align: center; vertical-align: top\">Stronger - Kanye West</td>\n",
              "    </tr>\n",
              "    <tr>\n",
              "        <td style=\"padding-left: 1em; padding-right: 1em; text-align: center; vertical-align: top\">Constellations - Jack<br>Johnson ...</td>\n",
              "    </tr>\n",
              "    <tr>\n",
              "        <td style=\"padding-left: 1em; padding-right: 1em; text-align: center; vertical-align: top\">Learn To Fly - Foo<br>Fighters ...</td>\n",
              "    </tr>\n",
              "    <tr>\n",
              "        <td style=\"padding-left: 1em; padding-right: 1em; text-align: center; vertical-align: top\">Apuesta Por El Rock &#x27;N&#x27;<br>Roll - Héroes del ...</td>\n",
              "    </tr>\n",
              "    <tr>\n",
              "        <td style=\"padding-left: 1em; padding-right: 1em; text-align: center; vertical-align: top\">Paper Gangsta - Lady GaGa</td>\n",
              "    </tr>\n",
              "    <tr>\n",
              "        <td style=\"padding-left: 1em; padding-right: 1em; text-align: center; vertical-align: top\">Stacked Actors - Foo<br>Fighters ...</td>\n",
              "    </tr>\n",
              "    <tr>\n",
              "        <td style=\"padding-left: 1em; padding-right: 1em; text-align: center; vertical-align: top\">Sehr kosmisch - Harmonia</td>\n",
              "    </tr>\n",
              "    <tr>\n",
              "        <td style=\"padding-left: 1em; padding-right: 1em; text-align: center; vertical-align: top\">Heaven&#x27;s gonna burn your<br>eyes - Thievery ...</td>\n",
              "    </tr>\n",
              "</table>\n",
              "[10 rows x 6 columns]<br/>\n",
              "</div>"
            ]
          },
          "metadata": {},
          "execution_count": 5
        }
      ]
    },
    {
      "cell_type": "code",
      "source": [
        "k = songs[songs['artist'] == 'Kanye West']"
      ],
      "metadata": {
        "id": "YsHyUGTo5Ztp"
      },
      "execution_count": null,
      "outputs": []
    },
    {
      "cell_type": "code",
      "source": [
        "f = songs[songs['artist'] == 'Foo Fighters']"
      ],
      "metadata": {
        "id": "_uOpGueB5gdB"
      },
      "execution_count": null,
      "outputs": []
    },
    {
      "cell_type": "code",
      "source": [
        "t = songs[songs['artist'] == 'Taylor Swift']"
      ],
      "metadata": {
        "id": "hWkdYFyf5r7Z"
      },
      "execution_count": null,
      "outputs": []
    },
    {
      "cell_type": "code",
      "source": [
        "l = songs[songs['artist'] == 'Lady GaGa']"
      ],
      "metadata": {
        "id": "nM3HgjJ-5vzb"
      },
      "execution_count": null,
      "outputs": []
    },
    {
      "cell_type": "code",
      "source": [
        "k['user_id'].unique()"
      ],
      "metadata": {
        "colab": {
          "base_uri": "https://localhost:8080/"
        },
        "id": "_jRw59kg52LJ",
        "outputId": "f8e41dbc-6da0-4794-8c24-33de8d47b1cd"
      },
      "execution_count": null,
      "outputs": [
        {
          "output_type": "execute_result",
          "data": {
            "text/plain": [
              "dtype: str\n",
              "Rows: 2522\n",
              "['900ed526660df9c3442ebe736db94eb0bc251b73', '5c604b6fc3d4077dfca40a57eea49388b69a19d6', 'b4c75391d49ce797c1af18468f1aa3ae5943f9de', '18325842a941bc58449ee71d659a08d1c1bd2383', '9685135efd0757150edb8d49e192fbb301e70e94', '71c17371dff96abe86663a7dc83e4334f3e4a67f', '9f78f038854c3ffb9e864ad281a7201d4dd999b2', 'b8474ad076d711b04a8732baab59872e72b487ff', 'd98c7abec08395694f7e469a8780d5cb54c809ba', 'b82c94bab6013453c2a0618f2079dff7c74599f0', '8c1022e54b28810ca20abb601328f1105f025125', '3abef8c80a5c697fcf7da4495bef26899ed13c77', 'c4f5e1f732f7ee646b58045d23643243abb561de', 'a90a12b1d303da46ecb3f77b8efd0d03370a9e86', 'e0c4690cbdd89e8817e7a25bce072b1ddc9618a5', '4c7f3dcad92dcb7e625aeb61e3b79d2fdffccc93', '744c384772ec76b403094d3ee97d2d6e07d3e0c3', 'ac76f1fb38d2c9c27178cccc502c2be2cc5b9acf', '82c458f2e9bc30f87890b408e5b965114989edf4', '37b97745b5649ca367aab9e4999528b470ecc692', 'd6dbb0578fe5baf513cad07fbf07801f89fd9313', '99d724639a1e51f53770236f24c87e2ca9126ec6', '07ca4e60b62326eeef7cff3bd95da257dc96b812', 'd36f8a8106e7f8f1dc111eb5cb5cc9dbe5ae07a9', '58fcc1ee8eb4bff5a9bedff6e7510f0167367c1a', '7a1e5f38af5197ee59857b48ac1eb2854e84a000', '2f03ae415b7efb7c015cdc79fa6166dcf1ddef32', '87fa091833add3a9b90404d4bae5d2cd709f632b', '790839cdd4ee24d5998952c1175848a51ec510a8', 'f34ffb77d1ca071bfa40fcf51fa5b716cd8f4219', 'fc7e6b0ab9b9ecd499369837f29ec8af3aa74489', '2bf4aa323998874797bff1b9a7d4049e38c2e706', 'efa2438cc0dba26b71b88fbf2b4fc27641c9a902', 'd0e43e3058cbd5a55ab57b5d367b154c35650419', 'e843882b389e96078a7b94476d9d1e884bd812e7', 'eb7f101c8b52a56d0e73100f5dbbd609df79c620', '9116c65d75343f5ac19f27b2eb8b1b447855e2ba', 'd6837d433e0f6731840991046ea4db076c1060db', 'ed328acd96a4147df93f64586eb56103ffa26c5e', '5d5e0142e54c3bb7b69f548c2ee55066c90700eb', '55a33f397fe9ef6dde63f140ff47666bc7a9247b', '95e20b2c4f1259ebf5cf4b05cbe9e7f7b9b79f74', '1dd37d51b9998623083f5b276ba8e95fdf72a0d5', 'f1a5555ab79f8a31c8d79112f7be7a84349bf92f', 'ff9de5c42ae7797c4cdcfb04370e77c51c80beef', '382868b3daba2e6924877d39492079944e998b55', 'de94198175aeadef534c4584691817d154cb9d41', 'd08fc0b2e67e4dc36b1b04397420a1cc2af137c0', '8584451eb3d5182afcbf9b5cc19e20e21f7cede2', 'c99946eb35e4afe71c11bc98fb5e5673a121db93', 'bdaba23f8e99fe6766d093d6849783e6316a500c', 'c1329a0da27e6ee4b09e570a71312111d4f0189c', '18142d8258c86a7f92be79afaff23390a4fd527a', 'c6a107ef87bd4fe87e399b5cf1c8d1e9c49f18de', '9ae6728cbd759d2cd5ab4ccbdc1ee0b35331c78b', '086ec1b75b81368a614a2ffb73087e1ce4e5f008', '59cdfbf5b20ad2c01fcc0f91efae59d8cc193be3', '31ba2ce3ed47b193d0e8c3ba9bbc44f452542e38', '3ad8a10d38d8fb5a1947217c946f7091a12bd53b', 'b4ed2e915b089c7d8d75d129a868212816c73f87', 'ba21d60c0ee0a8fe17c37477f9428b19f69a6ee7', '83188c3328c10898012181b0f430519396f9f184', '9cdfc2f12bb7591afefca28682345667f3bca6e4', '12789b3b67efc997897d019fff50e226357ebbfd', '536b99fac3204bc6667991d6efc1b8e9cbf4680e', 'e3f8995093f0eef5b2d42524ae7a0be636267501', '8e560b427cb35f48ff51b5cc8b9f83672af25b1e', 'f63dd9cbfdb69a6fc1bae4f9722e4c4781a3ddb1', 'df35169cca3926c1deb012edf045d2e161c353f2', 'f6763e5bf2e5ee2e363c1593728aac0e2aa38a10', 'a84a112e35ae2f5ddf7eca7d816a1f2765a9cc02', 'dc17f3b44d24b8ce3de605967f9ed3263c53b6fc', '205a0c66dd63a3e53b03ef4f195b17fe540aa119', '02f4560725c8d330688f0c392789ba2d53654632', '705449d46b99784af9bca24a0fa4abf91695e47e', '3a2e72debb878bdc9abc0938ae4dc5789c20a3b2', 'c58b794a6ce3dc723729f846c63cd4059c157515', '0bc4db4d1c154eb886f2b7093d39551f8db032fe', '32b05b10e8a25ebccb561adaa7033d3eefa8900e', 'ca3929eaabe4b0f59515c775b0dd5436f1ff09d6', '3f8f6107fc8a5ed5770a84baf3bd08c284c97cf0', 'fac8e47cd0cda54f910ab135cc977553717d69a6', '312efc1c3eb41bf1fa1d1e57443f74509fcb222e', '99c592d0064709497b9e18186ee9ccd75e02bdca', 'dea2c7bf2fd8001b6f09f01dff1217ea76a28ac9', '5c4f5bef192bc76cee4c4cbcd44d7ba5a2df5737', '4c9ef5f5ebe80d3f949bdcdb724800a7e33f2268', 'f9eecc6b0326348a943a91d750472d65d14a3c94', '932ad377a3bb70d0d32969f4941f0268d560afc9', '6a1432a23977a6515dcf49092f3424fecce2fd44', '871d004a886a45317e425b5516ba3391b50e2443', '8c9fdb5f1bb4e817ca4fdcbd2a7810fc286064d6', '62b62d87446db8c34cb64c2f3371ab1493ca0271', 'c697d270d46e1ee69569f60265c287b84f65ec80', 'd0f0134594ad065e29e9a236da4c38e7ab7bd3e8', '904fac1e1c7470c1c47bc3d2cd5f95b8dbedcecf', '4eef50154960c5238764dbda04e76df48206ec3b', '04935d7e3f0be93ac79e3d9c088aa1a0af6d9d80', '417862529ebc6866ea0baa9f4a066d7cbfbb4adb', 'bf02313f9b057d4d69124a7c1c4023f44167c065', ... ]"
            ]
          },
          "metadata": {},
          "execution_count": 11
        }
      ]
    },
    {
      "cell_type": "code",
      "source": [
        "f['user_id'].unique()"
      ],
      "metadata": {
        "colab": {
          "base_uri": "https://localhost:8080/"
        },
        "id": "iB6lb7Fh59ur",
        "outputId": "0a2c9e26-849f-42d7-9788-efda89db1dae"
      },
      "execution_count": null,
      "outputs": [
        {
          "output_type": "execute_result",
          "data": {
            "text/plain": [
              "dtype: str\n",
              "Rows: 2055\n",
              "['dc4a6ab83084f5f1c858793fa22f1200d5b6c267', '83b1428917b47a6b130ed471b09033820be78a8c', '5c9f68452a0a591d1fa7987bf2465fa646b99788', 'fc1b68dc9b3f0dd8752dd27cf5abc72993d6f81b', 'd98c7abec08395694f7e469a8780d5cb54c809ba', '4a3a1ae2748f12f7ab921a47d6d79abf82e3e325', '73453446c77ec6d9f01804dd94b4548a1680e828', 'e70c4dd69296c7c57f64feb49a4a2a19bf3f688e', '66515166dc465cb51af511db9f6e708095af31a6', '632af0475de5f2d90838520df96e4b681a383114', '9e47dcebaa4af46b192ff8cc1b5133b1d93fcce5', 'b41053464974bb6df6cabd2dd7a66039f182e9cb', 'd95df4df9d6f25e76f13556ce6cf5b50f979c76c', '2cc3314f90b8a3206a1ff3982d9195244f0504f0', 'd0e43e3058cbd5a55ab57b5d367b154c35650419', '13239e5c03b7cb15ed6a2007920f2e5d36466af2', 'b919f662b26957782fa1ea3543438edf53489ec7', 'cdc56c276751b2f52b19023591f50feb9c5492fb', '8a4dda75f8f820852dccd878ae2f725fd54d947d', 'c8529f95b292bad3a1d6ecaaa36f1d102b24598f', 'ca51216616cf1953ee93db8c54188a1eea1d5e6f', 'dbc6b70d02051fa6925fe7827be3316543c10537', 'f6255ef4f5df81d81ff98f9fde5f19e0b9e28613', 'f9d2599a999d601ad598fe0cb79b41329ba3d42c', '8c88450b68ebcace647cf0b4d25ec023a512c8ee', '822d61e5fe7d8b7b120e1fad28fce06a48db2255', '8ab12a0531093fb7180cbc53cf6466fc913370e9', '19e4bf53bf61f2348a2715ea99d3d0c416a51bf0', 'd2c662dab58b57d6438e664ed7ad411c64791efe', '1e8b32fed770c105c85284eeefdec5b5ec35dc43', '06010bea94826f4b317ed734ef0e320364b7be39', 'd3036a899284146c078dd9a9ae7a275988e66160', '94f1aa677069c65df6336e52d3b1109f40df7355', 'e4f9cfac3c236a5f3680dba4beb094b2c277b6ac', '8c4a88d04a71cafedeffa47b46d3ad44f523c0f4', '4a7a2bb6ceca48ada53f859763ea2aba05f49516', 'd056ed2b72bf6df2fab8392505f4c371bbc600cf', '3317977b0d3a0a4a3ce8b47ae22a75d62bca2a20', 'd6eb3834db466dad7885fcb7068ba3e2da7ebb60', '4df851b2aa631d02e299b79156a12d9581a9ab9f', '76781a987bd206a5a5581f843bd2363225fb4a18', '8e560b427cb35f48ff51b5cc8b9f83672af25b1e', '81f5e4f9d86d4df88750dbf81bc17addc6ef3c4e', '1f1db21105cbc879e195577db88acf044fc4deb6', 'd7cff075521649636b455da7cb259d2aee8416dc', 'e8b9604867cabe7ec34ee7db9bee54d93f3158c3', 'c3c1f32554541b5263e4c0801fc81075365f1916', '96a95de817bacaa7dce891d978500b222e12de9e', '763db23a8347f8103a8c99905b34fe24f85704ca', '18fd5364b431023cd1d6e469dc11140688106a21', '5f48e02d2c39c14ea6c3efdf832f9e091ec7009e', '4d784ec57dd616b92f6ac856c196951fc2226157', 'bd51142252349f35b2f2b0545065249936552a2a', 'd9cc3601c05102e33fc41ee319ee7ccf7bbb3fb8', '1d5425537c3e95af824d6ab174cc07daff6b030b', 'df085609a2ae4c23d92476548bf12fa29afd7774', '40d803e96c3852afb0d2d741b3737f714b4d79fe', '771e13e5f01cd1fe1024f97e735d34f18a0bda67', 'd188dfd446f57e544477e84f336e9633c0c4f5e0', '5a5e6993f2b2002209ecabf1162ee241aa4b73f6', '8fc5e2933511644954707d474eb0e3ca50bc902f', '78fc4c761dd20d9fc9f16826a2062829b89b5e0d', '20eb4e86128ba1b24748c42275356dc7e4806ac1', 'b78eda8b0ac71008ae2c4bdfbd1a8dd6b98d1410', '97c86e154dd5f98f6250c2de18e6f431b3a00def', '932ad377a3bb70d0d32969f4941f0268d560afc9', '82d4e28ae90ad0adbd1bfe6bb80e661aef088169', 'dfb5b9ac32dec9feeb1f846aa3a9dd2c547ee9a2', 'd45acd9ba011e8e88fcc922cb5fe5786746c6885', '595f872a132675e6e9940f37429367472c5b9161', '037a544789425070598d8de42f06fc7dd3f49bd9', '5e161b9e14f303a0cef2d3f44d07dd946549f89f', '3887c145fb91a26b3ce9c80903231539411c601e', '3212cbd1512b015d4ac30a07f8a1c0512a1c49b0', '9954c0a333df0a5cca17e81781f35155a1f3d298', '11a6b843c5161507f323fd574f0c0fe953d09fe5', 'a201e7bf3edaa5ab837c3725b91beba0b93c65c8', '6c4b89b09b634ff6dbb13f616d20c9f908c1ccec', 'e85bb213da0624269a1356bcb004fc87a9a92229', '46e4998584dc59acb5be224f3c9c481ec6c6283e', '0684a2f3b2700f128f268bc1d2ff460cfb096f20', '2bfb4e41fa919e0313c63ee16a7acfb38082040f', '399f1a0ce21480605587ebdc926346a97b9db5a3', 'bc908051af3f5aa5ee07b341e10edced8b8d4d09', 'cb0934c10663ed3f4a13c8e4fcd4bc08ea08c0aa', '32c46af3c6934225f4b4bc29c5ed1fd4acdfbc6e', 'dcaca21546352fc3eba998f9139a45505ec2733d', '15db9928831a6f3206918dec0f63c7e4a077eb63', 'ead6a62fc06ab22a9e2dcb3a8e254903967238a1', '61d0aafa1ff01dbca287e7fc92f2e0ceefa3e3bf', '43ccaa2106bbca57992ec9d89f05c2a022ecbcf3', 'b247831747088e8e8d672923ee5b16373dcd38e1', 'aee02d259133c391eb2e5599bd4259d99a0a58b9', '1f89725bd2030370acabe0872a8871cda7b16e82', '056d2cef8d222940468c84af9dded7c2ff5f6813', 'a0fe44e63d4540aecf068fe94ac8c102b5b84d38', '24c414e42be7976e3900fd26662d60b5acc424b3', '71f7020c5ab450ea0be0e2ad28199e61e0428d39', '1dbe96766e39e2297c1d4d92318825c61efce164', '920fb1c1cfddc1b2d3a95cbcd12a1d219b02eaa8', ... ]"
            ]
          },
          "metadata": {},
          "execution_count": 12
        }
      ]
    },
    {
      "cell_type": "code",
      "source": [
        "t['user_id'].unique()"
      ],
      "metadata": {
        "colab": {
          "base_uri": "https://localhost:8080/"
        },
        "id": "kw24wHC56BjI",
        "outputId": "45d8a03d-093b-4f9c-b3da-7e18c08f3f2d"
      },
      "execution_count": null,
      "outputs": [
        {
          "output_type": "execute_result",
          "data": {
            "text/plain": [
              "dtype: str\n",
              "Rows: 3246\n",
              "['02f015d32ac2cd1e52d26e3ec36048711dd5711b', '968f1baebc490d3c6999ee6c85c5cab8b726b347', '8a8eb87dc4de1a671451e4f6745739c77b97c202', '360b4499ebb6a98afbcfe95377ff8709eb95faac', 'b8474ad076d711b04a8732baab59872e72b487ff', 'd99ead40aad574d76c8c1121d0a0b3420987ab2a', '62c4bf887b7b1e5cf6ab62723481099c7f98377e', 'e0039fa2e1d0c51c729d2521a48eccc52a375cc2', 'b7b5408ba99a68a4d8d9df6007e8516a8fabb43f', '92337c69d4ff1c13f5c9ad4e9c62a0654be9d230', 'e8813fe73c90d69b4f744251c68fce896ec2aede', '73b81196e7429ef73636704acf70fa5cb22e0294', 'a558facade7c856f056b13692c348ad22c624633', 'affe67dcd8452def0784688df632cbf53b4c66c6', 'b82c94bab6013453c2a0618f2079dff7c74599f0', '7906b560bae5f8b3eb5d7f78ae65dbe94f248f4d', '8b46ff34ca4e56f7332775f14eab898eeb23294f', '02a898aab6609c477535af8a92036687d17b75c7', 'd6dbb0578fe5baf513cad07fbf07801f89fd9313', '5d55e0bebd46ac419e4e0fbacfee57602fe8cc1f', '08698dcb702ef3b79c57ab3027e6e3db8a6df526', '1c765481d4103de594ce8292b199cf7ce5aaf696', '56dd181814f67cac489d51c5828f2905c165db47', '9232eeaa942af2ff3f3e2b90f996d3ad003e4b31', '13728a9bd30a2aa451a849173ac7609417b0b563', '41787ce6600a8dd9579377ae90e21bec3b65a09a', '88c4a09085538ff1d25405ea2bcf97cad800af3b', 'e7f52e05379405efb9f37186d344f01648237a16', 'd0e43e3058cbd5a55ab57b5d367b154c35650419', 'b3bda43148fb16602e0839344c7e4ae82277b68c', '6a37f8118af2f2ac3a9acf220fc3d5c5bd20b084', 'b6c6617585b3b80edb02c5df9b161bb28000478a', '9fd616a80b94d0b0f4b1dd438eae250e6fab9bfb', '5d5e0142e54c3bb7b69f548c2ee55066c90700eb', '9c9fa2abc2ede71089c682f06ec9626c3e6cfa04', '56df8017a3210df0806714dd7ca43755b33b27a1', 'e7efda75b906b247d4c78d957cde9fe2998b2361', '1d78cca2d2fa9c19bc9f73e721136fbebb2d8ed5', '34ab060bf8ef3c3708ef66c60b5e025f5c6d083c', '91ab0be9a4d9c9ef3e38f7c9b21507d672c7bf11', '4d7b263e00678587c92a381904862c258c995f3a', '0427a32b3c7cee90eadbeb0a11349bb5c7ab286e', '8ab12a0531093fb7180cbc53cf6466fc913370e9', '0a20576ead7f1849c267027ad27a8b68c267e1f9', '9e02b9e44467fbe8fdca3c5724cba7cb34d55a1b', '06010bea94826f4b317ed734ef0e320364b7be39', 'bbbdbcecf3130d9975abae71581e362a100bde2f', '0998c6d0bc4a7ae29bd2835f36c8d38bb8245dab', 'bdaba23f8e99fe6766d093d6849783e6316a500c', '5fcc6dc3f10c59c285e7be96a93ccf78aec78200', '645a71077552e42572a9472eb41ec1f5d192e7b3', '9b8ca75bf3eafca09c69ad0f0c38bfe0cbab387b', '6e1807de2afc4221553409949926f23e36e9a4e8', 'a528763f37c5ba598fa746f04743efe5e4ea2c1c', '4a7a2bb6ceca48ada53f859763ea2aba05f49516', '87c3ca32d1f6d7ccd66a1288b4ecc60b74983867', '72354c0af6c478b61283a996a27d18e70a5d01ce', '518f5f43429304c11668623bb73655e8a97e95a5', '55d23329a89210beb789b6026e5bacef5f9cca69', '9a660cd0e498aeb08cd6d8b62cddcc6762c541c6', '5f8c1c9447fd95b9c273c55807a92dbd5e128aff', '379c45229de17fb596a3007580591b90642d4433', 'd997c7db3862f5ddb87ccd87ea3670d8700618d4', '05f226ee64b3233ce188010025e23464f780d821', '523dbe38910336a4d523f58a408d43f3576bd7e9', 'c8504ae53bce0a990140eaead1e5289efb1515f8', '28156cb1d0b71b06742ab821a8b88bef72965c82', '2dae5fcf510b95c20ea9ce2ebb7fde8e27768cbf', 'd87c106bda1f0df2a3e52cdc5c8aa37e30d58e58', 'b8a378e53e8510ca8bde97a68ce3874417505e7d', '365995a61187c26a3fe83ff4babcb24393b0376f', '210f3a581078971a7b4ae481ab8411a4f7837cee', '85650cebb4809c45f2c8ea4a875b25f74eb379d9', 'ce437bd511ae1fb47cac33c55818395657eaa1cc', '6ead9d97aa5d2278b51e9cd142be52191379435b', '76ae586b0c3c581d1f6cd86f43d39d57fcc0691f', 'c9a6232343943de241f9601eeb175edaa838ea77', 'de45b20f74ba24e55e0945ad698823b2f2582da0', '1039dae804ff0a96f689b2c2961d390aa13914cf', '2510038527855bd611844cce31164f71c42ce3ad', '708ae260f8ec276eae688a3f07d1eb0557d3c75b', '44a1668fd941e14bb1dffbe94248b680a97f87e2', '1f1db21105cbc879e195577db88acf044fc4deb6', '4a4709290b5d7e0b0bda6c70e6ee7e229be463ba', 'd32d9337c6672ee56a7d22f0cbc8e7e979af6350', '2c65722c771aac12213af740b9c0ce19f897913f', 'f71e12a27b574a83118b3fb9e4aaa09563cba738', 'cb33272c3010321cead6db6ac24ff33922365a3a', '86142ff8d467861bc66da4b32578b1206cb4ea32', 'ced33ee66eac5185e552941a0d987142f8ea8485', '4b31445a10173690532ce8a4b0fa5c7b30ccdb98', '461aca64a5aa057a68b6ca6421180b7b6a8a8638', '6de6e21c98a5206aa9a057c4bebb0ad925b91a94', '7c81e7e7d4348e03a594734108a2889a825ac704', '82dd101e9644cd0fd344428fa445db31c3479f24', 'b43ba8479f37d7763985249021553a465009bbad', '164da3325d23aa05f9f37273db4393440e771a6c', '29efb1235caf082c40392fa016e2d94ed834ca26', '10e312bfa5ab4dbd9c290776309ef65cd8e646d4', 'e4f0bcd8e3c158d4e57b5921bb1bf3dd4c6d8474', ... ]"
            ]
          },
          "metadata": {},
          "execution_count": 13
        }
      ]
    },
    {
      "cell_type": "code",
      "source": [
        "l['user_id'].unique()"
      ],
      "metadata": {
        "colab": {
          "base_uri": "https://localhost:8080/"
        },
        "id": "mdqepwK76ED-",
        "outputId": "2a94f9c3-7251-4f0e-e220-eaac904a3e65"
      },
      "execution_count": null,
      "outputs": [
        {
          "output_type": "execute_result",
          "data": {
            "text/plain": [
              "dtype: str\n",
              "Rows: 2928\n",
              "['0ecb1f480ebb237dc7821c898c94219cdfe38789', '7ad06615d118067e1bf973aa86c672874e0eb78f', 'b2b08a84654f90585e0dc3c5155d330fb8e4ba59', '360b4499ebb6a98afbcfe95377ff8709eb95faac', '2e9cbd200d67910aeb97b36efe9cd4341cc06030', 'fe85b96ba1983219b296f6b4869dd29eb2b72ff9', 'b0a570c42ba00edff4804f5d63916021ecfbd23c', 'e132e16e64f99edc3a674f823ce241da8dfbda21', '6b17deda6a5e5f22005e3aebc007e74c2574c7df', 'e8813fe73c90d69b4f744251c68fce896ec2aede', '090e635812d596bd980db8abc8226413441d8144', 'e70c4dd69296c7c57f64feb49a4a2a19bf3f688e', '38b77950a0d776effcdd6a7c101cc4d008059885', '4a6c404b2726ea68403d998be9c5118a0e91ca72', '3cea6c2878acf2f2996f98424d7f656adfaa2f6a', '7906b560bae5f8b3eb5d7f78ae65dbe94f248f4d', 'de5b7f935683035a6cde7f5886254fd293a73869', '531bbf65b9fd21d4e56d837def9399f304691207', '181d9c254ff957a396b8bbcec10228f84cfa5c2c', 'ad3e5d8acd955dd709794043e7ae02a85df12d65', 'efad1bd178aa3996d6fd40412ca0e5af4794e983', '3a829c9fa2a7b69f4067260200d35cc1af84020d', '5c4632b90bed9b1c69573f1de1c8d6dee1eb8d0c', '9232eeaa942af2ff3f3e2b90f996d3ad003e4b31', '48315fdbceba830680c924d8806cff317c6798c6', '5264bce396b58ba18b13fa8bc692b9e13095b238', '2ef5361054d5f4da80de8d59e767096cfe1d4e0e', 'a57d0e93327e03ba4f39cfdd633dbcb2b4f526f6', 'b3bda43148fb16602e0839344c7e4ae82277b68c', '4efd7650a476a016e4a65b0df7e640f239032b3c', '6a37f8118af2f2ac3a9acf220fc3d5c5bd20b084', '427f79a4116066653aa6959974f8a5986c2a8459', '9fd616a80b94d0b0f4b1dd438eae250e6fab9bfb', '21061b3af26cd9d0ac1c43cc9bc22d7416ff65f4', '358382780371437a861b90ff4f33022b30615b58', 'e4006c24d8a66fe85e825f8d4b0a9078be1b9204', 'fa34b04be0338811ccaae543e0ea5f7f2573f23d', '64db7e5580fb973cbcd9eca0532bd23f746c308a', '4d7b263e00678587c92a381904862c258c995f3a', 'db66a2159e681457517e5e7ddec88e89f8bdf934', '3a472c895a3ee2d99a2bffe10769235131de5bce', '8ff780d7f6c9e406e85603ecd804f8de42f0efc7', '751d4245454f7d7600ddbb355e6e5212af2f1ddd', '7717fe4c7c003887cce5a09d6eb1d8e739ac5d62', '90182c2fff16adc1d0ef229f39ff963cf37a6615', 'dbefed38a75a3f73e79262227c531a07e8c1c75c', '15596405a3b22023bbd3965cc6329cdae8e475b1', '9b8ca75bf3eafca09c69ad0f0c38bfe0cbab387b', '57be59aea99414a297899a04fb469f7b46592fc4', '4a7a2bb6ceca48ada53f859763ea2aba05f49516', '587d72d47d50a6940a78ff3fcd91caf8d4054c6a', '09b99937f1b90425c490321ec3027251eccfac3d', '05f226ee64b3233ce188010025e23464f780d821', 'd2f6e3542854934ecb56c3083f6a74c2b259d367', '0f0182cafb8d8d3c4c384aedb1a0d316c602ed7d', '2f46eb8ef4cfe8ed86c869e393ea5ce0eaaee461', 'd1b75f8014af0ba7e22bc1e95a28d6be19003886', '84c6475a73261c4a1db1d16f3ad80af1a0256f92', 'e8fc7111df017488a7c6630dc0bab52931cab644', '3fbc5e73ac917bf857102bd4e8b26983a7881035', '6cde3794dd8b2862015d850127be9bc60f1b3c31', '33fe674851b6a7a1f03e5bada3c200116ece3943', '12789b3b67efc997897d019fff50e226357ebbfd', 'fccefe057c1fe8571277ce99bc4746cd71eb5147', 'b12e25ca77f4d6d24a3cc43b5d68744c3b4a8e2c', '1d7b9780e492c062c739517c89e794985c7cf4bb', '1039dae804ff0a96f689b2c2961d390aa13914cf', '6cb2acdc7878bb390f470a5affb706fc821829fd', '0ef3fc780b2d3e3d95668a1d7d649b38c7c8e6c4', '286d0e09b1e974dc664d6f701bf3f8eda09a1ad6', '8fe2ebdb95db4564544947cb16d442bea81554ac', '1a8e700876bdab8669019bee20d193103f76ab92', '120b2dc2699659ae3b708a613abc3d7ecb5326e2', '410787892d06c77fe0d5afd8b3b00dc874a11091', '355429a240c40b288d8b9c48e2849c5f67303dab', '6a76f7237d1e4988bf23ed184c10b7a9d2f96974', '1a23569da6434614c5a2aa14ef67fcf4c07d17b7', '8f3bf00c389715e5a350848cab74ea71f3855eb3', 'd9cc3601c05102e33fc41ee319ee7ccf7bbb3fb8', '0125127617030cb2793e6944075d99046123c37e', 'd0e60617ed4a08b97e17bf7204c1ab666551e50e', '13716875b4aa5052b2cf87a3e1275db249bf798a', '1bd140b16562bf0c720fefe784470dd0f72370d3', 'b6c4164b5b7764e86c695dfa5895ee063c236943', '5a5302263531077e0d4c07217ad4741278f13ce3', '148a5727b25b2b1703668e2b03f4df88225f166d', 'af1227fa8640d0155e12ce87de8279050407ee93', 'dea2c7bf2fd8001b6f09f01dff1217ea76a28ac9', '7c81e7e7d4348e03a594734108a2889a825ac704', 'd7e65e4295729ceafe349b056d743038ce2bf7e4', '298c645a8d538157b09dbb3669b50c42ba36075f', '29efb1235caf082c40392fa016e2d94ed834ca26', '686c886260ae27f539ee9c4d38b9d5800afa7ede', '6a1432a23977a6515dcf49092f3424fecce2fd44', '514033d39196cbe7ad55004ac3acc589c604335f', '91cc1993adadcc66d133c1f57e4a4a0131612c8c', 'ac6836ccde6a2cbf6ed80d319a191a0776da235b', 'a84c816dae73862b28b8df29829e1418788fa97c', '8c907427d706aab41a79dd1d8e898fcc2f4c41e9', '983090cc71f8f386c18694d36ad1ff4480aaba20', ... ]"
            ]
          },
          "metadata": {},
          "execution_count": 14
        }
      ]
    },
    {
      "cell_type": "code",
      "source": [
        "song1 = songs.groupby(key_column_names = 'artist', operations={'total_count': tc.aggregate.SUM('listen_count')})"
      ],
      "metadata": {
        "id": "wM2P0Dlu9oua"
      },
      "execution_count": null,
      "outputs": []
    },
    {
      "cell_type": "code",
      "source": [
        "song1.sort('total_count', ascending=True)"
      ],
      "metadata": {
        "colab": {
          "base_uri": "https://localhost:8080/",
          "height": 319
        },
        "id": "rl6FJ163-J3z",
        "outputId": "3091dba8-87b2-47d9-9bca-39712561beb1"
      },
      "execution_count": null,
      "outputs": [
        {
          "output_type": "execute_result",
          "data": {
            "text/plain": [
              "Columns:\n",
              "\tartist\tstr\n",
              "\ttotal_count\tint\n",
              "\n",
              "Rows: 3375\n",
              "\n",
              "Data:\n",
              "+-------------------------------+-------------+\n",
              "|             artist            | total_count |\n",
              "+-------------------------------+-------------+\n",
              "|        William Tabbert        |      14     |\n",
              "|         Reel Feelings         |      24     |\n",
              "| Beyoncé feat. Bun B and Sl... |      26     |\n",
              "|             Diplo             |      30     |\n",
              "|         Boggle Karaoke        |      30     |\n",
              "|         harvey summers        |      31     |\n",
              "|             Nâdiya            |      36     |\n",
              "|          Jody Bernal          |      38     |\n",
              "|        Aneta Langerova        |      38     |\n",
              "| Kanye West / Talib Kweli /... |      38     |\n",
              "+-------------------------------+-------------+\n",
              "[3375 rows x 2 columns]\n",
              "Note: Only the head of the SFrame is printed.\n",
              "You can use print_rows(num_rows=m, num_columns=n) to print more rows and columns."
            ],
            "text/html": [
              "<div style=\"max-height:1000px;max-width:1500px;overflow:auto;\"><table frame=\"box\" rules=\"cols\">\n",
              "    <tr>\n",
              "        <th style=\"padding-left: 1em; padding-right: 1em; text-align: center\">artist</th>\n",
              "        <th style=\"padding-left: 1em; padding-right: 1em; text-align: center\">total_count</th>\n",
              "    </tr>\n",
              "    <tr>\n",
              "        <td style=\"padding-left: 1em; padding-right: 1em; text-align: center; vertical-align: top\">William Tabbert</td>\n",
              "        <td style=\"padding-left: 1em; padding-right: 1em; text-align: center; vertical-align: top\">14</td>\n",
              "    </tr>\n",
              "    <tr>\n",
              "        <td style=\"padding-left: 1em; padding-right: 1em; text-align: center; vertical-align: top\">Reel Feelings</td>\n",
              "        <td style=\"padding-left: 1em; padding-right: 1em; text-align: center; vertical-align: top\">24</td>\n",
              "    </tr>\n",
              "    <tr>\n",
              "        <td style=\"padding-left: 1em; padding-right: 1em; text-align: center; vertical-align: top\">Beyoncé feat. Bun B and<br>Slim Thug ...</td>\n",
              "        <td style=\"padding-left: 1em; padding-right: 1em; text-align: center; vertical-align: top\">26</td>\n",
              "    </tr>\n",
              "    <tr>\n",
              "        <td style=\"padding-left: 1em; padding-right: 1em; text-align: center; vertical-align: top\">Diplo</td>\n",
              "        <td style=\"padding-left: 1em; padding-right: 1em; text-align: center; vertical-align: top\">30</td>\n",
              "    </tr>\n",
              "    <tr>\n",
              "        <td style=\"padding-left: 1em; padding-right: 1em; text-align: center; vertical-align: top\">Boggle Karaoke</td>\n",
              "        <td style=\"padding-left: 1em; padding-right: 1em; text-align: center; vertical-align: top\">30</td>\n",
              "    </tr>\n",
              "    <tr>\n",
              "        <td style=\"padding-left: 1em; padding-right: 1em; text-align: center; vertical-align: top\">harvey summers</td>\n",
              "        <td style=\"padding-left: 1em; padding-right: 1em; text-align: center; vertical-align: top\">31</td>\n",
              "    </tr>\n",
              "    <tr>\n",
              "        <td style=\"padding-left: 1em; padding-right: 1em; text-align: center; vertical-align: top\">Nâdiya</td>\n",
              "        <td style=\"padding-left: 1em; padding-right: 1em; text-align: center; vertical-align: top\">36</td>\n",
              "    </tr>\n",
              "    <tr>\n",
              "        <td style=\"padding-left: 1em; padding-right: 1em; text-align: center; vertical-align: top\">Jody Bernal</td>\n",
              "        <td style=\"padding-left: 1em; padding-right: 1em; text-align: center; vertical-align: top\">38</td>\n",
              "    </tr>\n",
              "    <tr>\n",
              "        <td style=\"padding-left: 1em; padding-right: 1em; text-align: center; vertical-align: top\">Aneta Langerova</td>\n",
              "        <td style=\"padding-left: 1em; padding-right: 1em; text-align: center; vertical-align: top\">38</td>\n",
              "    </tr>\n",
              "    <tr>\n",
              "        <td style=\"padding-left: 1em; padding-right: 1em; text-align: center; vertical-align: top\">Kanye West / Talib Kweli<br>/ Q-Tip / Common / ...</td>\n",
              "        <td style=\"padding-left: 1em; padding-right: 1em; text-align: center; vertical-align: top\">38</td>\n",
              "    </tr>\n",
              "</table>\n",
              "[3375 rows x 2 columns]<br/>Note: Only the head of the SFrame is printed.<br/>You can use print_rows(num_rows=m, num_columns=n) to print more rows and columns.\n",
              "</div>"
            ]
          },
          "metadata": {},
          "execution_count": 36
        }
      ]
    },
    {
      "cell_type": "code",
      "source": [
        "tdata,testdata = songs.random_split(.8 , seed=0)"
      ],
      "metadata": {
        "id": "vMVlNtLe-rn-"
      },
      "execution_count": null,
      "outputs": []
    },
    {
      "cell_type": "code",
      "source": [
        "recommender_model = tc.recommender.item_similarity_recommender.create(tdata ,user_id = 'user_id' ,item_id = 'song')"
      ],
      "metadata": {
        "colab": {
          "base_uri": "https://localhost:8080/",
          "height": 451
        },
        "id": "qUDyyOoo_v4a",
        "outputId": "91d66e79-8d89-47b3-f386-f455ba6661f6"
      },
      "execution_count": null,
      "outputs": [
        {
          "output_type": "display_data",
          "data": {
            "text/plain": [
              "Warning: Ignoring columns song_id, listen_count, title, artist;"
            ],
            "text/html": [
              "<pre>Warning: Ignoring columns song_id, listen_count, title, artist;</pre>"
            ]
          },
          "metadata": {}
        },
        {
          "output_type": "display_data",
          "data": {
            "text/plain": [
              " To use one of these as a rating column, specify the column name to be used as target"
            ],
            "text/html": [
              "<pre> To use one of these as a rating column, specify the column name to be used as target</pre>"
            ]
          },
          "metadata": {}
        },
        {
          "output_type": "display_data",
          "data": {
            "text/plain": [
              "    and use a method that allows the use of a target."
            ],
            "text/html": [
              "<pre>    and use a method that allows the use of a target.</pre>"
            ]
          },
          "metadata": {}
        },
        {
          "output_type": "display_data",
          "data": {
            "text/plain": [
              "Preparing data set."
            ],
            "text/html": [
              "<pre>Preparing data set.</pre>"
            ]
          },
          "metadata": {}
        },
        {
          "output_type": "display_data",
          "data": {
            "text/plain": [
              "    Data has 893580 observations with 66085 users and 9952 items."
            ],
            "text/html": [
              "<pre>    Data has 893580 observations with 66085 users and 9952 items.</pre>"
            ]
          },
          "metadata": {}
        },
        {
          "output_type": "display_data",
          "data": {
            "text/plain": [
              "    Data prepared in: 0.960963s"
            ],
            "text/html": [
              "<pre>    Data prepared in: 0.960963s</pre>"
            ]
          },
          "metadata": {}
        },
        {
          "output_type": "display_data",
          "data": {
            "text/plain": [
              "Training model from provided data."
            ],
            "text/html": [
              "<pre>Training model from provided data.</pre>"
            ]
          },
          "metadata": {}
        },
        {
          "output_type": "display_data",
          "data": {
            "text/plain": [
              "Gathering per-item and per-user statistics."
            ],
            "text/html": [
              "<pre>Gathering per-item and per-user statistics.</pre>"
            ]
          },
          "metadata": {}
        },
        {
          "output_type": "display_data",
          "data": {
            "text/plain": [
              "+--------------------------------+------------+"
            ],
            "text/html": [
              "<pre>+--------------------------------+------------+</pre>"
            ]
          },
          "metadata": {}
        },
        {
          "output_type": "display_data",
          "data": {
            "text/plain": [
              "| Elapsed Time (Item Statistics) | % Complete |"
            ],
            "text/html": [
              "<pre>| Elapsed Time (Item Statistics) | % Complete |</pre>"
            ]
          },
          "metadata": {}
        },
        {
          "output_type": "display_data",
          "data": {
            "text/plain": [
              "+--------------------------------+------------+"
            ],
            "text/html": [
              "<pre>+--------------------------------+------------+</pre>"
            ]
          },
          "metadata": {}
        },
        {
          "output_type": "display_data",
          "data": {
            "text/plain": [
              "| 1.223ms                        | 1.5        |"
            ],
            "text/html": [
              "<pre>| 1.223ms                        | 1.5        |</pre>"
            ]
          },
          "metadata": {}
        },
        {
          "output_type": "display_data",
          "data": {
            "text/plain": [
              "| 47.621ms                       | 100        |"
            ],
            "text/html": [
              "<pre>| 47.621ms                       | 100        |</pre>"
            ]
          },
          "metadata": {}
        },
        {
          "output_type": "display_data",
          "data": {
            "text/plain": [
              "+--------------------------------+------------+"
            ],
            "text/html": [
              "<pre>+--------------------------------+------------+</pre>"
            ]
          },
          "metadata": {}
        },
        {
          "output_type": "display_data",
          "data": {
            "text/plain": [
              "Setting up lookup tables."
            ],
            "text/html": [
              "<pre>Setting up lookup tables.</pre>"
            ]
          },
          "metadata": {}
        },
        {
          "output_type": "display_data",
          "data": {
            "text/plain": [
              "Processing data in one pass using dense lookup tables."
            ],
            "text/html": [
              "<pre>Processing data in one pass using dense lookup tables.</pre>"
            ]
          },
          "metadata": {}
        },
        {
          "output_type": "display_data",
          "data": {
            "text/plain": [
              "+-------------------------------------+------------------+-----------------+"
            ],
            "text/html": [
              "<pre>+-------------------------------------+------------------+-----------------+</pre>"
            ]
          },
          "metadata": {}
        },
        {
          "output_type": "display_data",
          "data": {
            "text/plain": [
              "| Elapsed Time (Constructing Lookups) | Total % Complete | Items Processed |"
            ],
            "text/html": [
              "<pre>| Elapsed Time (Constructing Lookups) | Total % Complete | Items Processed |</pre>"
            ]
          },
          "metadata": {}
        },
        {
          "output_type": "display_data",
          "data": {
            "text/plain": [
              "+-------------------------------------+------------------+-----------------+"
            ],
            "text/html": [
              "<pre>+-------------------------------------+------------------+-----------------+</pre>"
            ]
          },
          "metadata": {}
        },
        {
          "output_type": "display_data",
          "data": {
            "text/plain": [
              "| 516.252ms                           | 0                | 0               |"
            ],
            "text/html": [
              "<pre>| 516.252ms                           | 0                | 0               |</pre>"
            ]
          },
          "metadata": {}
        },
        {
          "output_type": "display_data",
          "data": {
            "text/plain": [
              "| 1.54s                               | 100              | 9952            |"
            ],
            "text/html": [
              "<pre>| 1.54s                               | 100              | 9952            |</pre>"
            ]
          },
          "metadata": {}
        },
        {
          "output_type": "display_data",
          "data": {
            "text/plain": [
              "+-------------------------------------+------------------+-----------------+"
            ],
            "text/html": [
              "<pre>+-------------------------------------+------------------+-----------------+</pre>"
            ]
          },
          "metadata": {}
        },
        {
          "output_type": "display_data",
          "data": {
            "text/plain": [
              "Finalizing lookup tables."
            ],
            "text/html": [
              "<pre>Finalizing lookup tables.</pre>"
            ]
          },
          "metadata": {}
        },
        {
          "output_type": "display_data",
          "data": {
            "text/plain": [
              "Generating candidate set for working with new users."
            ],
            "text/html": [
              "<pre>Generating candidate set for working with new users.</pre>"
            ]
          },
          "metadata": {}
        },
        {
          "output_type": "display_data",
          "data": {
            "text/plain": [
              "Finished training in 2.60979s"
            ],
            "text/html": [
              "<pre>Finished training in 2.60979s</pre>"
            ]
          },
          "metadata": {}
        }
      ]
    },
    {
      "cell_type": "code",
      "source": [
        "subset = testdata['user_id'].unique()[0:10000]"
      ],
      "metadata": {
        "id": "D6v_eHsdAWzz"
      },
      "execution_count": null,
      "outputs": []
    },
    {
      "cell_type": "code",
      "source": [
        "r=recommender_model.recommend(subset,k=1)"
      ],
      "metadata": {
        "colab": {
          "base_uri": "https://localhost:8080/",
          "height": 191
        },
        "id": "klMxkF2SAq2K",
        "outputId": "845afee8-cb60-486e-c63a-4f3906395918"
      },
      "execution_count": null,
      "outputs": [
        {
          "output_type": "display_data",
          "data": {
            "text/plain": [
              "recommendations finished on 1000/10000 queries. users per second: 5807.03"
            ],
            "text/html": [
              "<pre>recommendations finished on 1000/10000 queries. users per second: 5807.03</pre>"
            ]
          },
          "metadata": {}
        },
        {
          "output_type": "display_data",
          "data": {
            "text/plain": [
              "recommendations finished on 2000/10000 queries. users per second: 5839.43"
            ],
            "text/html": [
              "<pre>recommendations finished on 2000/10000 queries. users per second: 5839.43</pre>"
            ]
          },
          "metadata": {}
        },
        {
          "output_type": "display_data",
          "data": {
            "text/plain": [
              "recommendations finished on 3000/10000 queries. users per second: 5738.73"
            ],
            "text/html": [
              "<pre>recommendations finished on 3000/10000 queries. users per second: 5738.73</pre>"
            ]
          },
          "metadata": {}
        },
        {
          "output_type": "display_data",
          "data": {
            "text/plain": [
              "recommendations finished on 4000/10000 queries. users per second: 5691.12"
            ],
            "text/html": [
              "<pre>recommendations finished on 4000/10000 queries. users per second: 5691.12</pre>"
            ]
          },
          "metadata": {}
        },
        {
          "output_type": "display_data",
          "data": {
            "text/plain": [
              "recommendations finished on 5000/10000 queries. users per second: 5678.77"
            ],
            "text/html": [
              "<pre>recommendations finished on 5000/10000 queries. users per second: 5678.77</pre>"
            ]
          },
          "metadata": {}
        },
        {
          "output_type": "display_data",
          "data": {
            "text/plain": [
              "recommendations finished on 6000/10000 queries. users per second: 5632.86"
            ],
            "text/html": [
              "<pre>recommendations finished on 6000/10000 queries. users per second: 5632.86</pre>"
            ]
          },
          "metadata": {}
        },
        {
          "output_type": "display_data",
          "data": {
            "text/plain": [
              "recommendations finished on 7000/10000 queries. users per second: 5634.3"
            ],
            "text/html": [
              "<pre>recommendations finished on 7000/10000 queries. users per second: 5634.3</pre>"
            ]
          },
          "metadata": {}
        },
        {
          "output_type": "display_data",
          "data": {
            "text/plain": [
              "recommendations finished on 8000/10000 queries. users per second: 5588.1"
            ],
            "text/html": [
              "<pre>recommendations finished on 8000/10000 queries. users per second: 5588.1</pre>"
            ]
          },
          "metadata": {}
        },
        {
          "output_type": "display_data",
          "data": {
            "text/plain": [
              "recommendations finished on 9000/10000 queries. users per second: 5569.16"
            ],
            "text/html": [
              "<pre>recommendations finished on 9000/10000 queries. users per second: 5569.16</pre>"
            ]
          },
          "metadata": {}
        },
        {
          "output_type": "display_data",
          "data": {
            "text/plain": [
              "recommendations finished on 10000/10000 queries. users per second: 5516.37"
            ],
            "text/html": [
              "<pre>recommendations finished on 10000/10000 queries. users per second: 5516.37</pre>"
            ]
          },
          "metadata": {}
        }
      ]
    },
    {
      "cell_type": "code",
      "source": [
        "r.groupby(key_column_names='song', operations={'total_count' : tc.aggregate.COUNT()}).sort('total_count',ascending=False)"
      ],
      "metadata": {
        "colab": {
          "base_uri": "https://localhost:8080/",
          "height": 353
        },
        "id": "OqOMIn_YA124",
        "outputId": "03853d2c-d077-46a2-fdb0-6a6f614d05b6"
      },
      "execution_count": null,
      "outputs": [
        {
          "output_type": "execute_result",
          "data": {
            "text/plain": [
              "Columns:\n",
              "\tsong\tstr\n",
              "\ttotal_count\tint\n",
              "\n",
              "Rows: 3120\n",
              "\n",
              "Data:\n",
              "+--------------------------------+-------------+\n",
              "|              song              | total_count |\n",
              "+--------------------------------+-------------+\n",
              "|          Undo - Björk          |     425     |\n",
              "|     Secrets - OneRepublic      |     399     |\n",
              "|    Revelry - Kings Of Leon     |     230     |\n",
              "| You're The One - Dwight Yoakam |     154     |\n",
              "|    Sehr kosmisch - Harmonia    |     113     |\n",
              "|    Hey_ Soul Sister - Train    |     113     |\n",
              "| Fireflies - Charttraxx Karaoke |     103     |\n",
              "| Horn Concerto No. 4 in E f...  |      89     |\n",
              "| OMG - Usher featuring will...  |      70     |\n",
              "|    The Scientist - Coldplay    |      50     |\n",
              "+--------------------------------+-------------+\n",
              "[3120 rows x 2 columns]\n",
              "Note: Only the head of the SFrame is printed.\n",
              "You can use print_rows(num_rows=m, num_columns=n) to print more rows and columns."
            ],
            "text/html": [
              "<div style=\"max-height:1000px;max-width:1500px;overflow:auto;\"><table frame=\"box\" rules=\"cols\">\n",
              "    <tr>\n",
              "        <th style=\"padding-left: 1em; padding-right: 1em; text-align: center\">song</th>\n",
              "        <th style=\"padding-left: 1em; padding-right: 1em; text-align: center\">total_count</th>\n",
              "    </tr>\n",
              "    <tr>\n",
              "        <td style=\"padding-left: 1em; padding-right: 1em; text-align: center; vertical-align: top\">Undo - Björk</td>\n",
              "        <td style=\"padding-left: 1em; padding-right: 1em; text-align: center; vertical-align: top\">425</td>\n",
              "    </tr>\n",
              "    <tr>\n",
              "        <td style=\"padding-left: 1em; padding-right: 1em; text-align: center; vertical-align: top\">Secrets - OneRepublic</td>\n",
              "        <td style=\"padding-left: 1em; padding-right: 1em; text-align: center; vertical-align: top\">399</td>\n",
              "    </tr>\n",
              "    <tr>\n",
              "        <td style=\"padding-left: 1em; padding-right: 1em; text-align: center; vertical-align: top\">Revelry - Kings Of Leon</td>\n",
              "        <td style=\"padding-left: 1em; padding-right: 1em; text-align: center; vertical-align: top\">230</td>\n",
              "    </tr>\n",
              "    <tr>\n",
              "        <td style=\"padding-left: 1em; padding-right: 1em; text-align: center; vertical-align: top\">You&#x27;re The One - Dwight<br>Yoakam ...</td>\n",
              "        <td style=\"padding-left: 1em; padding-right: 1em; text-align: center; vertical-align: top\">154</td>\n",
              "    </tr>\n",
              "    <tr>\n",
              "        <td style=\"padding-left: 1em; padding-right: 1em; text-align: center; vertical-align: top\">Sehr kosmisch - Harmonia</td>\n",
              "        <td style=\"padding-left: 1em; padding-right: 1em; text-align: center; vertical-align: top\">113</td>\n",
              "    </tr>\n",
              "    <tr>\n",
              "        <td style=\"padding-left: 1em; padding-right: 1em; text-align: center; vertical-align: top\">Hey_ Soul Sister - Train</td>\n",
              "        <td style=\"padding-left: 1em; padding-right: 1em; text-align: center; vertical-align: top\">113</td>\n",
              "    </tr>\n",
              "    <tr>\n",
              "        <td style=\"padding-left: 1em; padding-right: 1em; text-align: center; vertical-align: top\">Fireflies - Charttraxx<br>Karaoke ...</td>\n",
              "        <td style=\"padding-left: 1em; padding-right: 1em; text-align: center; vertical-align: top\">103</td>\n",
              "    </tr>\n",
              "    <tr>\n",
              "        <td style=\"padding-left: 1em; padding-right: 1em; text-align: center; vertical-align: top\">Horn Concerto No. 4 in E<br>flat K495: II. Romance ...</td>\n",
              "        <td style=\"padding-left: 1em; padding-right: 1em; text-align: center; vertical-align: top\">89</td>\n",
              "    </tr>\n",
              "    <tr>\n",
              "        <td style=\"padding-left: 1em; padding-right: 1em; text-align: center; vertical-align: top\">OMG - Usher featuring<br>will.i.am ...</td>\n",
              "        <td style=\"padding-left: 1em; padding-right: 1em; text-align: center; vertical-align: top\">70</td>\n",
              "    </tr>\n",
              "    <tr>\n",
              "        <td style=\"padding-left: 1em; padding-right: 1em; text-align: center; vertical-align: top\">The Scientist - Coldplay</td>\n",
              "        <td style=\"padding-left: 1em; padding-right: 1em; text-align: center; vertical-align: top\">50</td>\n",
              "    </tr>\n",
              "</table>\n",
              "[3120 rows x 2 columns]<br/>Note: Only the head of the SFrame is printed.<br/>You can use print_rows(num_rows=m, num_columns=n) to print more rows and columns.\n",
              "</div>"
            ]
          },
          "metadata": {},
          "execution_count": 35
        }
      ]
    }
  ]
}